{
 "cells": [
  {
   "cell_type": "code",
   "execution_count": 1,
   "id": "8bfebb95-c10d-4bb3-92e4-55153c6f1218",
   "metadata": {},
   "outputs": [
    {
     "name": "stderr",
     "output_type": "stream",
     "text": [
      "2023-04-04 19:06:25.814929: I tensorflow/core/platform/cpu_feature_guard.cc:182] This TensorFlow binary is optimized to use available CPU instructions in performance-critical operations.\n",
      "To enable the following instructions: AVX2 FMA, in other operations, rebuild TensorFlow with the appropriate compiler flags.\n"
     ]
    }
   ],
   "source": [
    "import pandas as pd\n",
    "import tensorflow as tf\n",
    "from tensorflow.keras import layers\n",
    "from tensorflow.keras.layers import Dense, Dropout, Input\n",
    "from tensorflow.keras.models import Model\n",
    "from tensorflow.keras.optimizers import Adam\n",
    "from urllib.request import Request, urlopen\n",
    "import numpy as np\n",
    "import time\n",
    "import datetime\n",
    "import time"
   ]
  },
  {
   "cell_type": "code",
   "execution_count": 2,
   "id": "7bac7ae7-4154-48a9-b7d4-04c0f2c70e04",
   "metadata": {},
   "outputs": [],
   "source": [
    "req = Request('http://192.168.50.145:9000/datasets/btcusdts_300000.csv')\n",
    "req.add_header('User-Agent', 'Mozilla/5.0 (X11; Ubuntu; Linux x86_64; rv:77.0) Gecko/20100101 Firefox/77.0')\n",
    "content = urlopen(req)"
   ]
  },
  {
   "cell_type": "code",
   "execution_count": 3,
   "id": "214d1a79-45fc-441e-aff3-0323e3581d42",
   "metadata": {},
   "outputs": [],
   "source": [
    "# Read in the data from the CSV file\n",
    "coin_train = pd.read_csv(content)\n",
    "\n",
    "# Split the data into input (X) and output (y) variables\n",
    "X = coin_train['timestamp']\n",
    "Y = coin_train[['A', 'a', 'B', 'b']]"
   ]
  },
  {
   "cell_type": "code",
   "execution_count": 4,
   "id": "1260614d-e6f7-4793-9cf8-628f6cf2e9e5",
   "metadata": {
    "tags": []
   },
   "outputs": [],
   "source": [
    "# Build a neural network model using Keras\n",
    "input_layer = Input(shape=1)\n",
    "x = Dense(32, activation=\"relu\")(input_layer)\n",
    "x = Dense(64, activation=\"relu\")(x)\n",
    "x = Dropout(0.5)(x)\n",
    "x = Dense(32, activation=\"relu\")(x)\n",
    "output_layer = Dense(4, activation=\"linear\")(x)\n",
    "model = Model(inputs=input_layer, outputs=output_layer)\n",
    "model.compile(loss=\"categorical_crossentropy\", optimizer=Adam(learning_rate=0.0001), metrics=['accuracy'])"
   ]
  },
  {
   "cell_type": "code",
   "execution_count": 5,
   "id": "dc0888b3-24fb-470d-8e0f-369367762c3e",
   "metadata": {},
   "outputs": [
    {
     "name": "stdout",
     "output_type": "stream",
     "text": [
      "Epoch 1/10\n",
      "4688/4688 [==============================] - 4s 794us/step - loss: 358805.4375 - accuracy: 0.0214\n",
      "Epoch 2/10\n",
      "4688/4688 [==============================] - 4s 789us/step - loss: 363301.0625 - accuracy: 0.0395\n",
      "Epoch 3/10\n",
      "4688/4688 [==============================] - 4s 773us/step - loss: nan - accuracy: 0.0250\n",
      "Epoch 4/10\n",
      "4688/4688 [==============================] - 4s 774us/step - loss: nan - accuracy: 0.0000e+00\n",
      "Epoch 5/10\n",
      "4688/4688 [==============================] - 4s 845us/step - loss: nan - accuracy: 0.0000e+00\n",
      "Epoch 6/10\n",
      "4688/4688 [==============================] - 4s 809us/step - loss: nan - accuracy: 0.0000e+00\n",
      "Epoch 7/10\n",
      "4688/4688 [==============================] - 4s 836us/step - loss: nan - accuracy: 0.0000e+00\n",
      "Epoch 8/10\n",
      "4688/4688 [==============================] - 4s 794us/step - loss: nan - accuracy: 0.0000e+00\n",
      "Epoch 9/10\n",
      "4688/4688 [==============================] - 4s 776us/step - loss: nan - accuracy: 0.0000e+00\n",
      "Epoch 10/10\n",
      "4688/4688 [==============================] - 4s 768us/step - loss: nan - accuracy: 0.0000e+00\n"
     ]
    },
    {
     "data": {
      "text/plain": [
       "<keras.callbacks.History at 0x12b5622f0>"
      ]
     },
     "execution_count": 5,
     "metadata": {},
     "output_type": "execute_result"
    }
   ],
   "source": [
    "# Train the model on the data\n",
    "model.fit(X, Y, epochs=10, batch_size=64)"
   ]
  },
  {
   "cell_type": "code",
   "execution_count": 6,
   "id": "f2c038f3-79f7-4923-b7c6-24e92a224cb6",
   "metadata": {
    "tags": []
   },
   "outputs": [
    {
     "name": "stdout",
     "output_type": "stream",
     "text": [
      "9375/9375 - 5s - loss: nan - accuracy: 0.0000e+00 - 5s/epoch - 488us/step\n"
     ]
    },
    {
     "data": {
      "text/plain": [
       "[nan, 0.0]"
      ]
     },
     "execution_count": 6,
     "metadata": {},
     "output_type": "execute_result"
    }
   ],
   "source": [
    "model.evaluate(X, Y, verbose=2)"
   ]
  },
  {
   "cell_type": "code",
   "execution_count": 7,
   "id": "1909f07e-55bc-417a-b174-18c6d6b4bcac",
   "metadata": {},
   "outputs": [
    {
     "name": "stdout",
     "output_type": "stream",
     "text": [
      "1/1 [==============================] - 0s 61ms/step\n",
      "[[nan nan nan nan]]\n"
     ]
    }
   ],
   "source": [
    "X_test = np.array([round(time.time() * 1000)]).reshape(1, 1)\n",
    "y_pred = model.predict(X_test)\n",
    "\n",
    "print(y_pred)"
   ]
  },
  {
   "cell_type": "code",
   "execution_count": null,
   "id": "3772cdf0-9221-4b23-8ca8-e05429797dee",
   "metadata": {},
   "outputs": [],
   "source": []
  }
 ],
 "metadata": {
  "kernelspec": {
   "display_name": "Python 3 (ipykernel)",
   "language": "python",
   "name": "python3"
  },
  "language_info": {
   "codemirror_mode": {
    "name": "ipython",
    "version": 3
   },
   "file_extension": ".py",
   "mimetype": "text/x-python",
   "name": "python",
   "nbconvert_exporter": "python",
   "pygments_lexer": "ipython3",
   "version": "3.10.10"
  }
 },
 "nbformat": 4,
 "nbformat_minor": 5
}
